{
 "cells": [
  {
   "cell_type": "code",
   "execution_count": null,
   "metadata": {},
   "outputs": [],
   "source": [
    "import pandas as pd\n",
    "\n",
    "data = \"ml-1m\"\n",
    "\n",
    "df = pd.read_csv(f\"./processed/{data}/{data}.inter\", sep=\"\\t\")\n",
    "df.head()"
   ]
  },
  {
   "cell_type": "code",
   "execution_count": null,
   "metadata": {},
   "outputs": [],
   "source": [
    "rate_size_dic_u = df.groupby(\"user_id:token\").size()\n",
    "rate_size_dic_i = df.groupby(\"item_id:token\").size()\n",
    "rate_size_dic_u"
   ]
  },
  {
   "cell_type": "code",
   "execution_count": null,
   "metadata": {},
   "outputs": [],
   "source": [
    "choosed_index_del_u = rate_size_dic_u[rate_size_dic_u < 5].index\n",
    "choosed_index_del_i = rate_size_dic_i[rate_size_dic_i < 5].index\n",
    "choosed_index_del_u"
   ]
  },
  {
   "cell_type": "code",
   "execution_count": null,
   "metadata": {},
   "outputs": [],
   "source": [
    "core_df = df[~df[\"item_id:token\"].isin(list(choosed_index_del_i))]\n",
    "core_df = core_df[~df[\"user_id:token\"].isin(list(choosed_index_del_u))]\n",
    "\n",
    "len(df), len(core_df)"
   ]
  },
  {
   "cell_type": "code",
   "execution_count": null,
   "metadata": {},
   "outputs": [],
   "source": [
    "core_df.to_csv(f\"./processed/{data}/{data}.inter\", sep=\"\\t\", index=False)"
   ]
  }
 ],
 "metadata": {
  "kernelspec": {
   "display_name": "dd",
   "language": "python",
   "name": "python3"
  },
  "language_info": {
   "name": "python",
   "version": "3.10.14"
  }
 },
 "nbformat": 4,
 "nbformat_minor": 2
}
